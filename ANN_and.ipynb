{
 "cells": [
  {
   "cell_type": "code",
   "execution_count": 1,
   "id": "a9195beb",
   "metadata": {},
   "outputs": [
    {
     "name": "stdout",
     "output_type": "stream",
     "text": [
      "Final weight: [1 1]\n",
      "Final bias: -1\n"
     ]
    }
   ],
   "source": [
    "import numpy as np\n",
    "\n",
    "weight = np.array([0, 0])\n",
    "bias = 0\n",
    "learning_rate = 1\n",
    "\n",
    "def activation(yin):\n",
    "    if yin > 0:\n",
    "        return 1\n",
    "    elif yin == 0:\n",
    "        return 0\n",
    "    else:\n",
    "        return -1\n",
    "        \n",
    "epochs = 100\n",
    "\n",
    "input_data = np.array([[1, 1], [1, -1], [-1, 1], [-1, -1]])\n",
    "targets = np.array([1, -1, -1, -1])\n",
    "\n",
    "for epoch in range(epochs):\n",
    "    for i in range(len(input_data)):\n",
    "        yin = bias + np.dot(input_data[i], weight)\n",
    "        y = activation(yin)\n",
    "        if y != targets[i]:\n",
    "            weight[0] += learning_rate * targets[i] * input_data[i][0]\n",
    "            weight[1] += learning_rate * targets[i] * input_data[i][1]\n",
    "            bias += learning_rate * targets[i]\n",
    "\n",
    "print(\"Final weight:\", weight)\n",
    "print(\"Final bias:\", bias)\n"
   ]
  },
  {
   "cell_type": "code",
   "execution_count": 2,
   "id": "0c0318f1",
   "metadata": {},
   "outputs": [
    {
     "name": "stdout",
     "output_type": "stream",
     "text": [
      "Input (1, 1): Predicted Output: 1\n",
      "Input (1, -1): Predicted Output: -1\n",
      "Input (-1, 1): Predicted Output: -1\n",
      "Input (-1, -1): Predicted Output: -1\n"
     ]
    }
   ],
   "source": [
    "def predict(x1, x2):\n",
    "    yin = bias + np.dot([x1, x2], weight)\n",
    "    return activation(yin)\n",
    "\n",
    "# Test the predict function\n",
    "print(\"Input (1, 1): Predicted Output:\", predict(1, 1))\n",
    "print(\"Input (1, -1): Predicted Output:\", predict(1, -1))\n",
    "print(\"Input (-1, 1): Predicted Output:\", predict(-1, 1))\n",
    "print(\"Input (-1, -1): Predicted Output:\", predict(-1, -1))"
   ]
  },
  {
   "cell_type": "code",
   "execution_count": null,
   "id": "502c78b5",
   "metadata": {},
   "outputs": [],
   "source": []
  }
 ],
 "metadata": {
  "kernelspec": {
   "display_name": "Python 3 (ipykernel)",
   "language": "python",
   "name": "python3"
  },
  "language_info": {
   "codemirror_mode": {
    "name": "ipython",
    "version": 3
   },
   "file_extension": ".py",
   "mimetype": "text/x-python",
   "name": "python",
   "nbconvert_exporter": "python",
   "pygments_lexer": "ipython3",
   "version": "3.11.5"
  }
 },
 "nbformat": 4,
 "nbformat_minor": 5
}
